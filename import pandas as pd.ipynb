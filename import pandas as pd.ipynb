import pandas as pd
from sklearn.model_selection import train_test_split
from sklearn.linear_model import LinearRegression
from sklearn.metrics import mean_squared_error
import matplotlib.pyplot as plt

# Load the dataset
df = pd.read_csv('your_dataset.csv')

# Select relevant features
features = ['Year', 'Odometer', 'MMR', 'Condition', 'Color', 'Interior', 'Transmission', 'SellingPrice']

# Handle missing values if any
df.dropna(subset=features, inplace=True)

# Encode categorical variables
df = pd.get_dummies(df, columns=['Condition', 'Color', 'Interior', 'Transmission'])

# Split the data into features (X) and target variable (y)
X = df.drop('SellingPrice', axis=1)
y = df['SellingPrice']

# Split the data into training and testing sets
X_train, X_test, y_train, y_test = train_test_split(X, y, test_size=0.2, random_state=42)

# Create and train the linear regression model
model = LinearRegression()
model.fit(X_train, y_train)

# Evaluate the model
y_pred = model.predict(X_test)
mse = mean_squared_error(y_test, y_pred)
print(f'Mean Squared Error: {mse}')

# Plot actual vs. predicted values
plt.scatter(y_test, y_pred)
plt.xlabel('Actual Selling Price')
plt.ylabel('Predicted Selling Price')
plt.title('Actual vs. Predicted Selling Price')
plt.show()

# Make predictions on new data if needed
# new_data = pd.DataFrame(...)  # New data to predict on
# predictions = model.predict(new_data)